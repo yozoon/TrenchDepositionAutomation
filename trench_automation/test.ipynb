{
 "cells": [
  {
   "cell_type": "code",
   "execution_count": null,
   "source": [
    "from os import path\n",
    "import vtk\n",
    "from vtk.util.numpy_support import vtk_to_numpy\n",
    "import matplotlib.pyplot as plt\n",
    "import numpy as np\n",
    "\n",
    "import sklearn.neighbors as neighbors"
   ],
   "outputs": [],
   "metadata": {}
  },
  {
   "cell_type": "code",
   "execution_count": null,
   "source": [
    "def extract_line(filename):\n",
    "    # Read the VTP file\n",
    "    reader = vtk.vtkXMLPolyDataReader()\n",
    "    reader.SetFileName(filename)\n",
    "    reader.Update()\n",
    "\n",
    "    # Extract the polygon data\n",
    "    polydata = reader.GetOutput()\n",
    "\n",
    "    # Apply a filter to connect contiguous line segments\n",
    "    # (This step is necessary since otherwise we would have many small line elements)\n",
    "    strip = vtk.vtkStripper()\n",
    "    strip.SetInputData(polydata)\n",
    "    strip.SetJoinContiguousSegments(True)\n",
    "    strip.Update()\n",
    "\n",
    "    # Retrieve the filter output\n",
    "    filtered = strip.GetOutput()\n",
    "\n",
    "    # Extract Points\n",
    "    point_coordinates = vtk_to_numpy(filtered.GetPoints().GetData())\n",
    "\n",
    "    # Extract Line data\n",
    "    lines = filtered.GetLines()\n",
    "    lines_array = vtk_to_numpy(lines.GetData())\n",
    "\n",
    "    # Connectivity array and offset array are only important if the line is not contiguous\n",
    "    #connectivity_array = vtk_to_numpy(lines.GetConnectivityArray())\n",
    "    #offset_array = vtk_to_numpy(lines.GetOffsetsArray())\n",
    "\n",
    "    # Extract the surface line (as separate x, y and z array)\n",
    "    return [np.array(d) for d in point_coordinates[lines_array[1:]].T]\n",
    "\n",
    "# Extract interface lines\n",
    "tx, ty, _ = extract_line(path.join(\"output\", \"result_0.10_8bit\", \"Interface_0_0.vtp\"))\n",
    "x, y, _ = extract_line(path.join(\"output\", \"result_0.10_8bit\", \"Interface_1_0.vtp\"))\n",
    "\n",
    "# Plot the line\n",
    "fig, ax = plt.subplots(figsize=(9,16))\n",
    "ax.plot(tx, ty, \"x\", label=\"Trench\")\n",
    "ax.plot(x, y, label=\"Oxide\")\n",
    "\n",
    "# Label plot\n",
    "ax.set_xlabel(\"x [nm]\")\n",
    "ax.set_ylabel(\"y [nm]\")\n",
    "ax.legend(loc=\"upper center\")\n",
    "plt.axis(\"scaled\")\n",
    "plt.show()"
   ],
   "outputs": [],
   "metadata": {}
  },
  {
   "cell_type": "code",
   "execution_count": null,
   "source": [
    "nbrs = neighbors.NearestNeighbors(n_neighbors=1, metric=\"euclidean\").fit(np.vstack([x, y]).T)\n",
    "distances, indices = nbrs.kneighbors(np.vstack([tx, ty]).T)"
   ],
   "outputs": [],
   "metadata": {}
  },
  {
   "cell_type": "code",
   "execution_count": null,
   "source": [
    "# Plot the line\n",
    "fig, ax = plt.subplots(figsize=(9,16))\n",
    "ax.plot(tx, ty, label=\"Trench\")\n",
    "ax.plot(x, y, label=\"Oxide\")\n",
    "\n",
    "for mx, my, r in zip(tx, ty, distances):\n",
    "    ax.add_patch(plt.Circle((mx, my), r, color='b', fill=False, clip_on=True))\n",
    "# Label plot\n",
    "ax.set_xlabel(\"x [nm]\")\n",
    "ax.set_ylabel(\"y [nm]\")\n",
    "ax.legend(loc=\"upper center\")\n",
    "plt.axis(\"scaled\")\n",
    "plt.show()"
   ],
   "outputs": [],
   "metadata": {}
  },
  {
   "cell_type": "code",
   "execution_count": null,
   "source": [
    "sidewall_idx = np.where(np.bitwise_and(np.bitwise_and(tx < 0, ty < -0.5), ty > np.min(ty)+0.5))\n",
    "sidewall_x, sidewall_y = tx[sidewall_idx], ty[sidewall_idx]"
   ],
   "outputs": [],
   "metadata": {}
  },
  {
   "cell_type": "code",
   "execution_count": null,
   "source": [
    "plt.plot(-ty[sidewall_idx], distances[sidewall_idx])\n",
    "plt.xlabel(\"Trench depth [nm]\")\n",
    "plt.ylabel(\"Deposition thickness [nm]\")\n",
    "#plt.axis(\"scaled\")\n",
    "plt.show()"
   ],
   "outputs": [],
   "metadata": {}
  },
  {
   "cell_type": "code",
   "execution_count": null,
   "source": [],
   "outputs": [],
   "metadata": {}
  }
 ],
 "metadata": {
  "orig_nbformat": 4,
  "language_info": {
   "name": "python"
  }
 },
 "nbformat": 4,
 "nbformat_minor": 2
}